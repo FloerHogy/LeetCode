{
 "cells": [
  {
   "cell_type": "markdown",
   "id": "99522c7c-ff0d-4578-ba84-a0a555442e2f",
   "metadata": {},
   "source": [
    "### **1. Two Sum**\n",
    "\n",
    "https://leetcode.com/problems/two-sum/"
   ]
  },
  {
   "cell_type": "code",
   "execution_count": 14,
   "id": "3a09053e-a414-4cfc-b599-a0a717c4bb5d",
   "metadata": {},
   "outputs": [
    {
     "name": "stdout",
     "output_type": "stream",
     "text": [
      "[1, 2]\n"
     ]
    }
   ],
   "source": [
    "class Solution:\n",
    "    def twoSum(self, nums, target):\n",
    "        t=0\n",
    "        for i, val_i in enumerate(nums):\n",
    "            for j in range(i, len(nums)):\n",
    "                val_j = nums[j]\n",
    "                if i != j and val_i + val_j == target:\n",
    "                    return [i,j]\n",
    "                elif t == len(nums)**2:\n",
    "                    return []\n",
    "                else:\n",
    "                    t += 1\n",
    "\n",
    "\n",
    "def twoSum(nums, t):\n",
    "        res = nums.copy()\n",
    "        res.sort()\n",
    "        l = 0\n",
    "        h = len(nums)-1\n",
    "        while l<h:\n",
    "            s= res[l]+res[h]\n",
    "            if s > t:\n",
    "                h = h-1\n",
    "            elif s == t:\n",
    "                break\n",
    "            else:\n",
    "                l = l+1\n",
    "        return [k for k in range(len(nums)) if (nums[k] == res[l] or nums[k] == res[h]) ]\n",
    "                \n",
    "\n",
    "\n",
    "print(twoSum([3,2,4],6))"
   ]
  },
  {
   "cell_type": "markdown",
   "id": "6276899c-e679-496c-800d-45d4ff9301d5",
   "metadata": {},
   "source": [
    "### **2. Add Two Numbers**\n",
    "\n",
    "\n",
    "https://leetcode.com/problems/add-two-numbers/\n",
    "\n",
    "with linked list (and stupid method)"
   ]
  },
  {
   "cell_type": "code",
   "execution_count": 20,
   "id": "b426ec4f-0cb3-455e-b9c8-fa623da0bb7f",
   "metadata": {},
   "outputs": [],
   "source": [
    "# Definition for singly-linked list.\n",
    "class ListNode:\n",
    "    def __init__(self, val=0, next=None):\n",
    "        self.val = val\n",
    "        self.next = next\n",
    "        \n",
    "class Solution:\n",
    "    def addTwoNumbers(self, l1, l2) :\n",
    "        def getnum(list):\n",
    "            res = ''\n",
    "            while list != None:\n",
    "                res = str(list.val) + res\n",
    "                list = list.next\n",
    "            return res\n",
    "        \n",
    "        def getlist(num):\n",
    "            if len(num)==1:\n",
    "                return ListNode(val = int(num), next = None)\n",
    "            else:\n",
    "                return ListNode(val = int(num[-1]), next = getlist(num[:-1]))\n",
    "        return getlist(str((int(getnum(l1))+int(getnum(l2)))))"
   ]
  },
  {
   "cell_type": "markdown",
   "id": "bf1c36c2-3d60-441e-b593-5c181191fe00",
   "metadata": {},
   "source": [
    "### **13. Roman to Integer**\n",
    "\n",
    "https://leetcode.com/problems/roman-to-integer/\n"
   ]
  },
  {
   "cell_type": "code",
   "execution_count": 1,
   "id": "d0eb4f16-5a99-460d-a5ba-706b7ef0bbe7",
   "metadata": {
    "executionTime": 119,
    "id": "bA5ajAmk7XH6",
    "lastSuccessfullyExecutedCode": "class Solution:\n    def romanToInt(self, s: str) -> int:\n        dict = {'I': 1, 'V': 5, 'X': 10, 'L': 50, 'C': 100, 'D': 500, 'M': 1000}\n        if len(s) == 0:\n             return 0\n        elif len(s) == 1:\n            return dict[s]\n        else:\n            res = 0\n            if dict[s[0]] >= dict[s[1]]:\n                res += dict[s[0]] + self.romanToInt(s[1:])\n            else:\n                res += dict[s[1]] - dict[s[0]] + self.romanToInt(s[2:])\n            return res\n\n\nSolution().romanToInt('LMIV')"
   },
   "outputs": [
    {
     "data": {
      "text/plain": [
       "954"
      ]
     },
     "execution_count": 1,
     "metadata": {},
     "output_type": "execute_result"
    }
   ],
   "source": [
    "class Solution:\n",
    "    def romanToInt(self, s: str) -> int:\n",
    "        dict = {'I': 1, 'V': 5, 'X': 10, 'L': 50, 'C': 100, 'D': 500, 'M': 1000}\n",
    "        if len(s) == 0:\n",
    "             return 0\n",
    "        elif len(s) == 1:\n",
    "            return dict[s]\n",
    "        else:\n",
    "            res = 0\n",
    "            if dict[s[0]] >= dict[s[1]]:\n",
    "                res += dict[s[0]] + self.romanToInt(s[1:])\n",
    "            else:\n",
    "                res += dict[s[1]] - dict[s[0]] + self.romanToInt(s[2:])\n",
    "            return res\n",
    "\n",
    "\n",
    "Solution().romanToInt('LMIV')"
   ]
  },
  {
   "cell_type": "markdown",
   "id": "4108a26e-be35-4e25-bc07-65243a81b4de",
   "metadata": {},
   "source": [
    "### **14. Longest Common Prefix**\n",
    "\n",
    "https://leetcode.com/problems/longest-common-prefix/"
   ]
  },
  {
   "cell_type": "code",
   "execution_count": 21,
   "id": "ceef352c-cf08-488d-9936-22bada1c7dc3",
   "metadata": {},
   "outputs": [
    {
     "name": "stdout",
     "output_type": "stream",
     "text": [
      "flr\n"
     ]
    }
   ],
   "source": [
    "class Solution:\n",
    "    def longestCommonPrefix(self, strs):\n",
    "        def longestPair(w1,w2):\n",
    "            if w1 == w2:\n",
    "                return w1\n",
    "            elif w1 == '' or w2 == '':\n",
    "                return ''\n",
    "            elif w1[0] != w2[0]:\n",
    "                return ''\n",
    "            else:\n",
    "                return w1[0] + longestPair(w1[1:],w2[1:])\n",
    "        res = strs[0]\n",
    "        l = len(strs)\n",
    "        for k in range(l):\n",
    "            res = longestPair(res, strs[k])\n",
    "        return res\n",
    "    \n",
    "print(Solution().longestCommonPrefix(['flrazt','flrezt']))"
   ]
  },
  {
   "cell_type": "markdown",
   "id": "34ac4211-f8b2-448b-9a2d-70e0f892a8df",
   "metadata": {},
   "source": [
    "### **21. Merge Two Sorted Lists**\n",
    "\n",
    "https://leetcode.com/problems/merge-two-sorted-lists/"
   ]
  },
  {
   "cell_type": "code",
   "execution_count": 19,
   "id": "8c110ee1-512d-4f99-8511-b992ff234cdc",
   "metadata": {},
   "outputs": [
    {
     "name": "stdout",
     "output_type": "stream",
     "text": [
      "3\n"
     ]
    }
   ],
   "source": [
    "class ListNode:\n",
    "    def __init__(self, val=0, next=None):\n",
    "        self.val = val\n",
    "        self.next = next\n",
    "class Solution:\n",
    "    def mergeTwoLists(self, list1, list2) :\n",
    "        if list1 == None:\n",
    "            return list2\n",
    "        elif list2 == None:\n",
    "            return list1\n",
    "        elif list1.next == None and list2.next == None:\n",
    "            if list1.val <= list2.val:\n",
    "                list1.next = list2\n",
    "                return list1\n",
    "            else:\n",
    "                list2.next = list1\n",
    "                return list2\n",
    "        elif list1.next == None:\n",
    "            if list1.val <= list2.val:\n",
    "                list1.next = list2\n",
    "                return list1\n",
    "            else:\n",
    "                list2.next = Solution().mergeTwoLists(list1, list2.next)\n",
    "                return list2\n",
    "        elif list2.next == None:\n",
    "            if list2.val <= list1.val:\n",
    "                list2.next = list1\n",
    "                return list2\n",
    "            else:\n",
    "                list1.next = Solution().mergeTwoLists(list1.next, list2)\n",
    "                return list1\n",
    "        else:\n",
    "            if list1.val <= list2.val:\n",
    "                list1.next = Solution().mergeTwoLists(list1.next, list2)\n",
    "                return list1\n",
    "            else:\n",
    "                list2.next = Solution().mergeTwoLists(list1, list2.next)\n",
    "                return list2\n",
    "        \n",
    "            \n",
    "        \n",
    "            \n",
    "print(Solution().mergeTwoLists(ListNode(1, next = ListNode(3)),ListNode(4,next= ListNode(7))).next.val)"
   ]
  },
  {
   "cell_type": "markdown",
   "id": "3f908ad0-1630-4a0c-b786-94a44fea6524",
   "metadata": {},
   "source": [
    "### **28. Find the Index of the First Occurrence in a String**\n",
    "\n",
    "https://leetcode.com/problems/find-the-index-of-the-first-occurrence-in-a-string/"
   ]
  },
  {
   "cell_type": "code",
   "execution_count": 17,
   "id": "33d08a83-bcc6-4a38-a57a-1985d2a4f52f",
   "metadata": {},
   "outputs": [
    {
     "name": "stdout",
     "output_type": "stream",
     "text": [
      "29\n"
     ]
    }
   ],
   "source": [
    "class Solution:\n",
    "    def strStr(self, haystack: str, needle: str) -> int:\n",
    "        l = len(needle)\n",
    "        L = len(haystack)\n",
    "        found = False\n",
    "        k = 0\n",
    "        while k < (L-l+1) and found == False:\n",
    "            if haystack[k:k+l] == needle:\n",
    "                found = True\n",
    "            else:\n",
    "                k += 1\n",
    "        if found:\n",
    "            return k\n",
    "        else:\n",
    "            return -1\n",
    "\n",
    "print(Solution().strStr('bbmdbsironrbuirmnodknaaaefioaazertybaiubeovanazertyovoimn', 'azerty'))"
   ]
  },
  {
   "cell_type": "markdown",
   "id": "bca0f87e-c597-4f57-a6bd-efe4c5ae86a3",
   "metadata": {},
   "source": [
    "### **98. Validate Binary Search Tree**\n",
    "\n",
    "https://leetcode.com/problems/validate-binary-search-tree/\n",
    "\n",
    "Method by exploring the graph and remembering what we saw to test each node.\n",
    "Check each value with two list, one for the right and one for the left.\n",
    "\n",
    "One could have also written the tree in a list\n",
    "list_left+root+list_right and check its order\n",
    "But less fun"
   ]
  },
  {
   "cell_type": "code",
   "execution_count": 22,
   "id": "53aef35f-a391-4b4f-bf16-aeb65c6490ca",
   "metadata": {},
   "outputs": [
    {
     "name": "stdout",
     "output_type": "stream",
     "text": [
      "True\n"
     ]
    }
   ],
   "source": [
    "# Definition for a binary tree node.\n",
    "class TreeNode:\n",
    "    def __init__(self, val=0, left=None, right=None):\n",
    "        self.val = val\n",
    "        self.left = left\n",
    "        self.right = right\n",
    "\n",
    "class Solution:\n",
    "    def isValidBST(self, root):\n",
    "        def sup(v,l):\n",
    "            if l == []:\n",
    "                return True\n",
    "            else:\n",
    "                return v > max(l)\n",
    "        def inf(v,l):\n",
    "            if l == []:\n",
    "                return True\n",
    "            else:\n",
    "                return v < min(l)\n",
    "        \n",
    "        \n",
    "        def check(tree, vl, vr):\n",
    "            if tree == None:\n",
    "                return True\n",
    "            elif tree.left == None and tree.right == None:\n",
    "                return (sup(tree.val,vr)) and (inf(tree.val,vl))\n",
    "            elif tree.left == None:\n",
    "                v = tree.right.val\n",
    "                return (sup(v,vr + [tree.val])) and (inf(v,vl)) and check(tree.right, vl , vr + [tree.val])\n",
    "            elif tree.right == None:\n",
    "                v = tree.left.val\n",
    "                return (sup(v,vr)) and (inf(v,vl+[tree.val])) and check(tree.left, vl + [tree.val], vr)\n",
    "            elif inf(tree.val, vl) == False or sup(tree.val , vr) == False:\n",
    "                return False\n",
    "            else:\n",
    "                return check(tree.left, vl + [tree.val], vr) and check(tree.right, vl, vr + [tree.val])\n",
    "        if root == None:\n",
    "            return True\n",
    "        else:\n",
    "            return check(root, [],[])\n",
    "        \n",
    "a = TreeNode(4)\n",
    "b = TreeNode(2)\n",
    "c=TreeNode(6)\n",
    "d= TreeNode(3)\n",
    "e = TreeNode(5)\n",
    "f= TreeNode (7)\n",
    "g= TreeNode(1)\n",
    "a.left = b\n",
    "a.right = c\n",
    "b.right = d\n",
    "c.left = e\n",
    "f.right = f\n",
    "b.left = g\n",
    "print(Solution().isValidBST(a))"
   ]
  },
  {
   "cell_type": "markdown",
   "id": "4f11301f-9575-4906-8dce-3bbdb93aec4b",
   "metadata": {},
   "source": [
    "### **104. Maximum Depth of Binary Tree**\n",
    "\n",
    "https://leetcode.com/problems/maximum-depth-of-binary-tree/"
   ]
  },
  {
   "cell_type": "code",
   "execution_count": null,
   "id": "9fd6fe4c-9452-40ca-ab8b-bec5e550a5b1",
   "metadata": {},
   "outputs": [],
   "source": [
    "# Definition for a binary tree node.\n",
    "class TreeNode:\n",
    "    def __init__(self, val=0, left=None, right=None):\n",
    "        self.val = val\n",
    "        self.left = left\n",
    "        self.right = right\n",
    "class Solution:\n",
    "    def maxDepth(self, root: Optional[TreeNode]) -> int:\n",
    "        if root == None:\n",
    "            return 0\n",
    "        elif root.left == None and root.right == None:\n",
    "            return 1\n",
    "        elif root.left == None:\n",
    "            return 1 + Solution().maxDepth(root.right)\n",
    "        elif root.right == None:\n",
    "            return 1 + Solution().maxDepth(root.left)\n",
    "        else:\n",
    "            return 1 + max( Solution().maxDepth(root.right), Solution().maxDepth(root.left))"
   ]
  },
  {
   "cell_type": "markdown",
   "id": "87f9d098-9796-4b03-a36c-b8ed0113caf0",
   "metadata": {},
   "source": [
    "### **234. Palindrome Linked List**\n",
    "\n",
    "https://leetcode.com/problems/palindrome-linked-list/"
   ]
  },
  {
   "cell_type": "markdown",
   "id": "5e8274e3-48b9-470a-8912-f86f7f103944",
   "metadata": {},
   "source": [
    "**2 ème version**: on ne touche pas à la première moitié de la liste qu'on compare avec la seconde.\n",
    "\n",
    "fwd : parcourt 1 à 1\n",
    "\n",
    "spd: parcourt 2 à 2 -> quand spd est au bout, fwd est à la moitié\n",
    "\n",
    "bwd: inversion de la 2ème moitié de la liste de départ"
   ]
  },
  {
   "cell_type": "code",
   "execution_count": 2,
   "id": "b00be947-0ddd-40d0-a62e-b91b830f605b",
   "metadata": {
    "executionTime": 48,
    "lastSuccessfullyExecutedCode": "class ListNode:\n    def __init__(self, val=0, next=None):\n        self.val = val\n        self.next = next\n\nclass Solution:\n    def isPalindrome(self, head: ListNode) -> bool:\n        fwd = head\n        spd = head\n        while spd and spd.next:\n            fwd = fwd.next\n            spd = spd.next.next\n        bwd = fwd\n        fwd = fwd.next\n        bwd.next = None\n        while fwd:\n            temp = bwd\n            bwd = fwd\n            fwd = fwd.next\n            bwd.next = temp\n        fwd = head\n#        print(Solution().printer(bwd))\n#        print(Solution().printer(fwd))\n        while bwd:\n            if bwd.val != fwd.val:\n                return False\n            bwd = bwd.next\n            fwd = fwd.next\n        return True\n    \n    def printer (self, head):\n        fwd = head\n        while fwd:\n            print(fwd.val)\n            fwd = fwd.next\n\n\nl = ListNode(val = 1, next = ListNode(val = 2, next = ListNode(val = 2, next = ListNode(val = 1, next = None))))\nlll = ListNode(val = 1, next = ListNode(val = 2, next = ListNode(val = 3, next = ListNode(val = 4, next = ListNode(val = 5, next = ListNode(val = 6,next = ListNode(val = 7)))))))\n\nprint(Solution().isPalindrome(l))\nprint(Solution().isPalindrome(lll))"
   },
   "outputs": [
    {
     "name": "stdout",
     "output_type": "stream",
     "text": [
      "True\n",
      "False\n"
     ]
    }
   ],
   "source": [
    "class ListNode:\n",
    "    def __init__(self, val=0, next=None):\n",
    "        self.val = val\n",
    "        self.next = next\n",
    "\n",
    "class Solution:\n",
    "    def isPalindrome(self, head: ListNode) -> bool:\n",
    "        fwd = head\n",
    "        spd = head\n",
    "        while spd and spd.next:\n",
    "            fwd = fwd.next\n",
    "            spd = spd.next.next\n",
    "        bwd = fwd\n",
    "        fwd = fwd.next\n",
    "        bwd.next = None\n",
    "        while fwd:\n",
    "            temp = bwd\n",
    "            bwd = fwd\n",
    "            fwd = fwd.next\n",
    "            bwd.next = temp\n",
    "        fwd = head\n",
    "#        print(Solution().printer(bwd))\n",
    "#        print(Solution().printer(fwd))\n",
    "        while bwd:\n",
    "            if bwd.val != fwd.val:\n",
    "                return False\n",
    "            bwd = bwd.next\n",
    "            fwd = fwd.next\n",
    "        return True\n",
    "    \n",
    "    def printer (self, head):\n",
    "        fwd = head\n",
    "        while fwd:\n",
    "            print(fwd.val)\n",
    "            fwd = fwd.next\n",
    "\n",
    "\n",
    "l = ListNode(val = 1, next = ListNode(val = 2, next = ListNode(val = 2, next = ListNode(val = 1, next = None))))\n",
    "lll = ListNode(val = 1, next = ListNode(val = 2, next = ListNode(val = 3, next = ListNode(val = 4, next = ListNode(val = 5, next = ListNode(val = 6,next = ListNode(val = 7)))))))\n",
    "\n",
    "print(Solution().isPalindrome(l))\n",
    "print(Solution().isPalindrome(lll))"
   ]
  },
  {
   "cell_type": "markdown",
   "id": "201f522e-5398-410e-bd65-413ea026eab6",
   "metadata": {},
   "source": [
    "### **235. Lowest Common Ancestor of a Binary Search Tree**\n",
    "\n",
    "https://leetcode.com/problems/lowest-common-ancestor-of-a-binary-search-tree/\n",
    "\n",
    "Méthode directe en calculant la place, puis conversion en binaire pour avoir le chemin"
   ]
  },
  {
   "cell_type": "code",
   "execution_count": 6,
   "id": "50d70e6d-1ebc-42cf-a4e7-1cfae38e9ce2",
   "metadata": {
    "executionTime": 81,
    "lastSuccessfullyExecutedCode": "# Definition for a binary tree node.\nclass TreeNode:\n    def __init__(self, x):\n        self.val = x\n        self.left = None\n        self.right = None\n\nclass Solution:\n    def rank(self, rt: 'Treenode' ,s):\n        if s == rt:\n            return 1\n        else:\n            rk = 2\n            list = []\n            if rt.left == None:\n                list.append(1)\n            else:\n                list.append(rt.left)\n            if rt.right == None:\n                list.append(1)\n            else:\n                list.append(rt.right)\n            lost = True\n            while lost:\n                if type(list[0]) != int:\n                    if list[0] == s:\n                        lost = False\n                        return rk\n                    else:\n                        if list[0].left == None:\n                            list.append(1)\n                        else:\n                            list.append(list[0].left)\n                        if list[0].right == None:\n                            list.append(1)\n                        else:\n                            list.append(list[0].right)\n                        list.pop(0)\n                        rk += 1\n                else:\n                    rk += list[0]\n                    list.append(2 * list[0])\n                    list.pop(0)\n                    \n    \n    \n    def lowestCommonAncestor(self, root: 'TreeNode', p: 'TreeNode', q: 'TreeNode') -> 'TreeNode':\n\n        p_coord = Solution().rank( root , p)\n        q_coord = Solution().rank( root , q)\n        p_bin = [int(bit) for bit in bin(p_coord)[2:]]\n        q_bin = [int(bit) for bit in bin(q_coord)[2:]]\n        print(p_bin)\n        print(q_bin)\n        length = min(len(p_bin), len(q_bin))\n        LCA = root\n        if length ==1:\n            return root\n        else:\n            res = (p_bin[1] == q_bin[1])\n            i= 1\n            while res:\n                if p_bin[i] == 0:\n                    LCA = LCA.left\n                else:\n                    LCA = LCA.right\n                i += 1\n                if i >= length:\n                    res = False\n                else:\n                    res = (p_bin[i] == q_bin[i])\n            return LCA\n                 "
   },
   "outputs": [],
   "source": [
    "# Definition for a binary tree node.\n",
    "class TreeNode:\n",
    "    def __init__(self, x):\n",
    "        self.val = x\n",
    "        self.left = None\n",
    "        self.right = None\n",
    "\n",
    "class Solution:\n",
    "    def rank(self, rt: 'Treenode' ,s):\n",
    "        if s == rt:\n",
    "            return 1\n",
    "        else:\n",
    "            rk = 2\n",
    "            list = []\n",
    "            if rt.left == None:\n",
    "                list.append(1)\n",
    "            else:\n",
    "                list.append(rt.left)\n",
    "            if rt.right == None:\n",
    "                list.append(1)\n",
    "            else:\n",
    "                list.append(rt.right)\n",
    "            lost = True\n",
    "            while lost:\n",
    "                if type(list[0]) != int:\n",
    "                    if list[0] == s:\n",
    "                        lost = False\n",
    "                        return rk\n",
    "                    else:\n",
    "                        if list[0].left == None:\n",
    "                            list.append(1)\n",
    "                        else:\n",
    "                            list.append(list[0].left)\n",
    "                        if list[0].right == None:\n",
    "                            list.append(1)\n",
    "                        else:\n",
    "                            list.append(list[0].right)\n",
    "                        list.pop(0)\n",
    "                        rk += 1\n",
    "                else:\n",
    "                    rk += list[0]\n",
    "                    list.append(2 * list[0])\n",
    "                    list.pop(0)\n",
    "                    \n",
    "    \n",
    "    \n",
    "    def lowestCommonAncestor(self, root: 'TreeNode', p: 'TreeNode', q: 'TreeNode') -> 'TreeNode':\n",
    "\n",
    "        p_coord = Solution().rank( root , p)\n",
    "        q_coord = Solution().rank( root , q)\n",
    "        p_bin = [int(bit) for bit in bin(p_coord)[2:]]\n",
    "        q_bin = [int(bit) for bit in bin(q_coord)[2:]]\n",
    "        length = min(len(p_bin), len(q_bin))\n",
    "        LCA = root\n",
    "        if length ==1:\n",
    "            return root\n",
    "        else:\n",
    "            res = (p_bin[1] == q_bin[1])\n",
    "            i= 1\n",
    "            while res:\n",
    "                if p_bin[i] == 0:\n",
    "                    LCA = LCA.left\n",
    "                else:\n",
    "                    LCA = LCA.right\n",
    "                i += 1\n",
    "                if i >= length:\n",
    "                    res = False\n",
    "                else:\n",
    "                    res = (p_bin[i] == q_bin[i])\n",
    "            return LCA\n",
    "                 "
   ]
  },
  {
   "cell_type": "code",
   "execution_count": 7,
   "id": "fec435f9-fd62-4760-b9ad-1845eb9adcc3",
   "metadata": {
    "executionTime": 176,
    "lastSuccessfullyExecutedCode": "a = TreeNode(3)\nb = TreeNode(1)\nc=TreeNode(4)\nd= TreeNode(2)\na.left = b\na.right = c\nb.right = d\n\nprint(Solution().lowestCommonAncestor(a ,d , c).val)"
   },
   "outputs": [
    {
     "name": "stdout",
     "output_type": "stream",
     "text": [
      "3\n"
     ]
    }
   ],
   "source": [
    "a = TreeNode(3)\n",
    "b = TreeNode(1)\n",
    "c=TreeNode(4)\n",
    "d= TreeNode(2)\n",
    "a.left = b\n",
    "a.right = c\n",
    "b.right = d\n",
    "\n",
    "print(Solution().lowestCommonAncestor(a ,d , c).val)"
   ]
  },
  {
   "cell_type": "markdown",
   "id": "0bb7bba6-045b-46a8-a436-35968a1192ad",
   "metadata": {},
   "source": [
    "**2nde version** méthode récursive"
   ]
  },
  {
   "cell_type": "code",
   "execution_count": 8,
   "id": "771aa88d-8902-4ba6-83e8-5e304d023585",
   "metadata": {
    "executionTime": 175,
    "lastSuccessfullyExecutedCode": "class Solution:\n    def lowestCommonAncestor(self, root: 'TreeNode', p: 'TreeNode', q: 'TreeNode') -> 'TreeNode':\n        if root == None:\n            return root\n        elif p == root or q == root:\n            return root\n        else:\n            left = Solution().lowestCommonAncestor(root.left, p , q)\n            right = Solution().lowestCommonAncestor(root.right, p , q)\n        if left != None and right!= None:\n            return root\n        elif left == None:\n            return right\n        else:\n            return left\n    "
   },
   "outputs": [],
   "source": [
    "class Solution:\n",
    "    def lowestCommonAncestor(self, root: 'TreeNode', p: 'TreeNode', q: 'TreeNode') -> 'TreeNode':\n",
    "        if root == None:\n",
    "            return root\n",
    "        elif p == root or q == root:\n",
    "            return root\n",
    "        else:\n",
    "            left = Solution().lowestCommonAncestor(root.left, p , q)\n",
    "            right = Solution().lowestCommonAncestor(root.right, p , q)\n",
    "        if left != None and right!= None:\n",
    "            return root\n",
    "        elif left == None:\n",
    "            return right\n",
    "        else:\n",
    "            return left\n",
    "    "
   ]
  },
  {
   "cell_type": "markdown",
   "id": "9efd019c-d81a-4c75-ba85-ceea89160afe",
   "metadata": {},
   "source": [
    "### **383. Ransom Note**\n",
    "\n",
    "https://leetcode.com/problems/ransom-note/"
   ]
  },
  {
   "cell_type": "code",
   "execution_count": 11,
   "id": "8083d9ec-0b71-4ffd-82b1-bfbc8f1ee0c9",
   "metadata": {},
   "outputs": [
    {
     "name": "stdout",
     "output_type": "stream",
     "text": [
      "True\n"
     ]
    }
   ],
   "source": [
    "class Solution:\n",
    "    def canConstruct(self, ransomNote: str, magazine: str) -> bool:\n",
    "        mot = ransomNote\n",
    "        if mot in magazine:\n",
    "            return True\n",
    "        else:\n",
    "            i =  magazine.find(ransomNote[0])\n",
    "            if i== -1:\n",
    "                return False\n",
    "            else:\n",
    "                return Solution().canConstruct(mot[1:], magazine[:i]+magazine[i+1:])\n",
    "\n",
    "\n",
    "\n",
    "l = 'azerta'\n",
    "m = 'krzpa,tbena'\n",
    "print(Solution().canConstruct(l,m))"
   ]
  },
  {
   "cell_type": "markdown",
   "id": "0aa2b538-05d1-4c80-978c-e35e89fb88b3",
   "metadata": {},
   "source": [
    "### **412. Fizz Buzz**\n",
    "\n",
    "https://leetcode.com/problems/fizz-buzz/"
   ]
  },
  {
   "cell_type": "code",
   "execution_count": 4,
   "id": "31944e66-b261-4726-99af-a3c84bce6e9a",
   "metadata": {},
   "outputs": [
    {
     "name": "stdout",
     "output_type": "stream",
     "text": [
      "['1', '2', 'Fizz', '4', 'Buzz', 'Fizz', '7', '8', 'Fizz', 'Buzz', '11', 'Fizz', '13', '14', 'FizzBuzz', '16', '17', 'Fizz', '19', 'Buzz']\n",
      "['1', '2', 'Fizz', '4', 'Buzz', 'Fizz', '7', '8', 'Fizz', 'Buzz', '11', 'Fizz', '13', '14', 'FizzBuzz', '16', '17', 'Fizz', '19', 'Buzz']\n"
     ]
    }
   ],
   "source": [
    "class Solution:\n",
    "    def fizzBuzz(self, n: int):\n",
    "        res = []\n",
    "        for k in range(1,n+1):\n",
    "            cond3 = (k % 3 == 0)\n",
    "            cond5 = (k % 5 == 0)\n",
    "            if cond3 and cond5:\n",
    "                res.append('FizzBuzz')\n",
    "            elif cond3:\n",
    "                res.append('Fizz')\n",
    "            elif cond5:\n",
    "                res.append('Buzz')\n",
    "            else:\n",
    "                res.append(str(k))\n",
    "        return res\n",
    "\n",
    "def fizzBuzz1(n): return ['FizzBuzz' if (k % 3 == 0) and (k % 5 == 0) else 'Fizz' if (k % 3 == 0) else 'Buzz' if (k % 5 == 0) else str(k)  for k in range(1,n+1)]\n",
    "\n",
    "print(Solution().fizzBuzz(20))\n",
    "print(fizzBuzz1(20))"
   ]
  },
  {
   "cell_type": "markdown",
   "id": "be2e1030-049a-441e-970b-c7d599e3635c",
   "metadata": {},
   "source": [
    "### **876. Middle of the Linked List**\n",
    "\n",
    "https://leetcode.com/problems/middle-of-the-linked-list/"
   ]
  },
  {
   "cell_type": "code",
   "execution_count": 18,
   "id": "fafa5256-a16a-4e62-88e8-bf5fd0104c49",
   "metadata": {},
   "outputs": [],
   "source": [
    "# Definition for singly-linked list.\n",
    "class ListNode:\n",
    "    def __init__(self, val=0, next=None):\n",
    "        self.val = val\n",
    "        self.next = next\n",
    "class Solution:\n",
    "    def middleNode(self, head):\n",
    "        fwd = head\n",
    "        spd = head\n",
    "        while spd and spd.next:\n",
    "            fwd = fwd.next\n",
    "            spd = spd.next.next\n",
    "        return fwd"
   ]
  },
  {
   "cell_type": "markdown",
   "id": "32dbedee-fc4c-4bb0-8bed-db98b2ad38a6",
   "metadata": {},
   "source": [
    "### **1337. The K Weakest Rows in a Matrix**\n",
    "\n",
    "https://leetcode.com/problems/the-k-weakest-rows-in-a-matrix/"
   ]
  },
  {
   "cell_type": "code",
   "execution_count": 6,
   "id": "eb50b72a-b9ee-4daa-949c-df6035dd0c70",
   "metadata": {},
   "outputs": [
    {
     "name": "stdout",
     "output_type": "stream",
     "text": [
      "[2, 0, 3]\n"
     ]
    }
   ],
   "source": [
    "def kWeakestRows(mat, k):\n",
    "    infos = [(i, sum(mat[i])) for i in range(len(mat))]\n",
    "    res = sorted(infos, key = lambda force: force[1])\n",
    "    return [res[i][0] for i in range(k)]\n",
    "\n",
    "ipt = [[1,1,0,0,0],[1,1,1,1,0],[1,0,0,0,0],[1,1,0,0,0],[1,1,1,1,1]]\n",
    "\n",
    "print(kWeakestRows(ipt, 3))"
   ]
  },
  {
   "cell_type": "markdown",
   "id": "c022b073-dd52-46a9-911c-fe71eda04909",
   "metadata": {},
   "source": [
    "### **1342. Number of Steps to Reduce a Number to Zero**\n",
    "\n",
    "https://leetcode.com/problems/number-of-steps-to-reduce-a-number-to-zero/"
   ]
  },
  {
   "cell_type": "code",
   "execution_count": 8,
   "id": "de56b178-c0f3-4057-92a3-5e8bce03e80a",
   "metadata": {},
   "outputs": [
    {
     "name": "stdout",
     "output_type": "stream",
     "text": [
      "13\n"
     ]
    }
   ],
   "source": [
    "def numberOfSteps(n):\n",
    "    if n == 0:\n",
    "        return 0\n",
    "    elif n % 2 == 0:\n",
    "        return 1 + numberOfSteps(int(n/2))\n",
    "    else:\n",
    "        return 1 + numberOfSteps(n-1)\n",
    "\n",
    "print(numberOfSteps(345))"
   ]
  },
  {
   "cell_type": "markdown",
   "id": "d26d038a-6cac-4404-ac5f-852c62cbde6f",
   "metadata": {},
   "source": [
    "### **1672. Richest Customer Wealth**\n",
    "\n",
    "https://leetcode.com/problems/richest-customer-wealth/"
   ]
  },
  {
   "cell_type": "code",
   "execution_count": 10,
   "id": "ceae2e2e-ca5b-40e1-b57a-5c6908d3f788",
   "metadata": {},
   "outputs": [
    {
     "name": "stdout",
     "output_type": "stream",
     "text": [
      "9\n"
     ]
    }
   ],
   "source": [
    "class Solution:\n",
    "    def maximumWealth(self, accounts) -> int:\n",
    "        if len(accounts) == 0:\n",
    "            return 0\n",
    "        else:\n",
    "            return max( sum(accounts[0]) , Solution().maximumWealth(accounts[1:]) )\n",
    "\n",
    "print(Solution().maximumWealth([[2,4,1],[0,1,2],[5,1,3],[3,1,1]]))"
   ]
  }
 ],
 "metadata": {
  "colab": {
   "name": "Welcome to DataCamp Workspaces.ipynb",
   "provenance": []
  },
  "kernelspec": {
   "display_name": "Python 3 (ipykernel)",
   "language": "python",
   "name": "python3"
  },
  "language_info": {
   "codemirror_mode": {
    "name": "ipython",
    "version": 3
   },
   "file_extension": ".py",
   "mimetype": "text/x-python",
   "name": "python",
   "nbconvert_exporter": "python",
   "pygments_lexer": "ipython3",
   "version": "3.9.13"
  }
 },
 "nbformat": 4,
 "nbformat_minor": 5
}
