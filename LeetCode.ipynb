{
 "cells": [
  {
   "cell_type": "markdown",
   "id": "bf1c36c2-3d60-441e-b593-5c181191fe00",
   "metadata": {},
   "source": [
    "### **13. Roman to Integer**\n",
    "\n",
    "https://leetcode.com/problems/roman-to-integer/\n"
   ]
  },
  {
   "cell_type": "code",
   "execution_count": 1,
   "id": "d0eb4f16-5a99-460d-a5ba-706b7ef0bbe7",
   "metadata": {
    "executionTime": 119,
    "id": "bA5ajAmk7XH6",
    "lastSuccessfullyExecutedCode": "class Solution:\n    def romanToInt(self, s: str) -> int:\n        dict = {'I': 1, 'V': 5, 'X': 10, 'L': 50, 'C': 100, 'D': 500, 'M': 1000}\n        if len(s) == 0:\n             return 0\n        elif len(s) == 1:\n            return dict[s]\n        else:\n            res = 0\n            if dict[s[0]] >= dict[s[1]]:\n                res += dict[s[0]] + self.romanToInt(s[1:])\n            else:\n                res += dict[s[1]] - dict[s[0]] + self.romanToInt(s[2:])\n            return res\n\n\nSolution().romanToInt('LMIV')"
   },
   "outputs": [
    {
     "data": {
      "text/plain": [
       "954"
      ]
     },
     "execution_count": 1,
     "metadata": {},
     "output_type": "execute_result"
    }
   ],
   "source": [
    "class Solution:\n",
    "    def romanToInt(self, s: str) -> int:\n",
    "        dict = {'I': 1, 'V': 5, 'X': 10, 'L': 50, 'C': 100, 'D': 500, 'M': 1000}\n",
    "        if len(s) == 0:\n",
    "             return 0\n",
    "        elif len(s) == 1:\n",
    "            return dict[s]\n",
    "        else:\n",
    "            res = 0\n",
    "            if dict[s[0]] >= dict[s[1]]:\n",
    "                res += dict[s[0]] + self.romanToInt(s[1:])\n",
    "            else:\n",
    "                res += dict[s[1]] - dict[s[0]] + self.romanToInt(s[2:])\n",
    "            return res\n",
    "\n",
    "\n",
    "Solution().romanToInt('LMIV')"
   ]
  },
  {
   "cell_type": "markdown",
   "id": "87f9d098-9796-4b03-a36c-b8ed0113caf0",
   "metadata": {},
   "source": [
    "### **234. Palindrome Linked List**\n",
    "\n",
    "https://leetcode.com/problems/palindrome-linked-list/"
   ]
  },
  {
   "cell_type": "markdown",
   "id": "5e8274e3-48b9-470a-8912-f86f7f103944",
   "metadata": {},
   "source": [
    "**2 ème version**: on ne touche pas à la première moitié de la liste qu'on compare avec la seconde.\n",
    "\n",
    "fwd : parcourt 1 à 1\n",
    "\n",
    "spd: parcourt 2 à 2 -> quand spd est au bout, fwd est à la moitié\n",
    "\n",
    "bwd: inversion de la 2ème moitié de la liste de départ"
   ]
  },
  {
   "cell_type": "code",
   "execution_count": 2,
   "id": "b00be947-0ddd-40d0-a62e-b91b830f605b",
   "metadata": {
    "executionTime": 48,
    "lastSuccessfullyExecutedCode": "class ListNode:\n    def __init__(self, val=0, next=None):\n        self.val = val\n        self.next = next\n\nclass Solution:\n    def isPalindrome(self, head: ListNode) -> bool:\n        fwd = head\n        spd = head\n        while spd and spd.next:\n            fwd = fwd.next\n            spd = spd.next.next\n        bwd = fwd\n        fwd = fwd.next\n        bwd.next = None\n        while fwd:\n            temp = bwd\n            bwd = fwd\n            fwd = fwd.next\n            bwd.next = temp\n        fwd = head\n#        print(Solution().printer(bwd))\n#        print(Solution().printer(fwd))\n        while bwd:\n            if bwd.val != fwd.val:\n                return False\n            bwd = bwd.next\n            fwd = fwd.next\n        return True\n    \n    def printer (self, head):\n        fwd = head\n        while fwd:\n            print(fwd.val)\n            fwd = fwd.next\n\n\nl = ListNode(val = 1, next = ListNode(val = 2, next = ListNode(val = 2, next = ListNode(val = 1, next = None))))\nlll = ListNode(val = 1, next = ListNode(val = 2, next = ListNode(val = 3, next = ListNode(val = 4, next = ListNode(val = 5, next = ListNode(val = 6,next = ListNode(val = 7)))))))\n\nprint(Solution().isPalindrome(l))\nprint(Solution().isPalindrome(lll))"
   },
   "outputs": [
    {
     "name": "stdout",
     "output_type": "stream",
     "text": [
      "True\n",
      "False\n"
     ]
    }
   ],
   "source": [
    "class ListNode:\n",
    "    def __init__(self, val=0, next=None):\n",
    "        self.val = val\n",
    "        self.next = next\n",
    "\n",
    "class Solution:\n",
    "    def isPalindrome(self, head: ListNode) -> bool:\n",
    "        fwd = head\n",
    "        spd = head\n",
    "        while spd and spd.next:\n",
    "            fwd = fwd.next\n",
    "            spd = spd.next.next\n",
    "        bwd = fwd\n",
    "        fwd = fwd.next\n",
    "        bwd.next = None\n",
    "        while fwd:\n",
    "            temp = bwd\n",
    "            bwd = fwd\n",
    "            fwd = fwd.next\n",
    "            bwd.next = temp\n",
    "        fwd = head\n",
    "#        print(Solution().printer(bwd))\n",
    "#        print(Solution().printer(fwd))\n",
    "        while bwd:\n",
    "            if bwd.val != fwd.val:\n",
    "                return False\n",
    "            bwd = bwd.next\n",
    "            fwd = fwd.next\n",
    "        return True\n",
    "    \n",
    "    def printer (self, head):\n",
    "        fwd = head\n",
    "        while fwd:\n",
    "            print(fwd.val)\n",
    "            fwd = fwd.next\n",
    "\n",
    "\n",
    "l = ListNode(val = 1, next = ListNode(val = 2, next = ListNode(val = 2, next = ListNode(val = 1, next = None))))\n",
    "lll = ListNode(val = 1, next = ListNode(val = 2, next = ListNode(val = 3, next = ListNode(val = 4, next = ListNode(val = 5, next = ListNode(val = 6,next = ListNode(val = 7)))))))\n",
    "\n",
    "print(Solution().isPalindrome(l))\n",
    "print(Solution().isPalindrome(lll))"
   ]
  },
  {
   "cell_type": "markdown",
   "id": "0f64ae5c-4347-4335-b81a-2db1896145c0",
   "metadata": {},
   "source": [
    "### **235. Lowest Common Ancestor of a Binary Search Tree**\n",
    "\n",
    "Méthode directe en calculant la place, puis conversion en binaire pour avoir le chemin"
   ]
  },
  {
   "cell_type": "code",
   "execution_count": 3,
   "id": "50d70e6d-1ebc-42cf-a4e7-1cfae38e9ce2",
   "metadata": {
    "executionTime": 81,
    "lastSuccessfullyExecutedCode": "# Definition for a binary tree node.\nclass TreeNode:\n    def __init__(self, x):\n        self.val = x\n        self.left = None\n        self.right = None\n\nclass Solution:\n    def rank(self, rt: 'Treenode' ,s):\n        if s == rt:\n            return 1\n        else:\n            rk = 2\n            list = []\n            if rt.left == None:\n                list.append(1)\n            else:\n                list.append(rt.left)\n            if rt.right == None:\n                list.append(1)\n            else:\n                list.append(rt.right)\n            lost = True\n            while lost:\n                if type(list[0]) != int:\n                    if list[0] == s:\n                        lost = False\n                        return rk\n                    else:\n                        if list[0].left == None:\n                            list.append(1)\n                        else:\n                            list.append(list[0].left)\n                        if list[0].right == None:\n                            list.append(1)\n                        else:\n                            list.append(list[0].right)\n                        list.pop(0)\n                        rk += 1\n                else:\n                    rk += list[0]\n                    list.append(2 * list[0])\n                    list.pop(0)\n                    \n    \n    \n    def lowestCommonAncestor(self, root: 'TreeNode', p: 'TreeNode', q: 'TreeNode') -> 'TreeNode':\n\n        p_coord = Solution().rank( root , p)\n        q_coord = Solution().rank( root , q)\n        p_bin = [int(bit) for bit in bin(p_coord)[2:]]\n        q_bin = [int(bit) for bit in bin(q_coord)[2:]]\n        print(p_bin)\n        print(q_bin)\n        length = min(len(p_bin), len(q_bin))\n        LCA = root\n        if length ==1:\n            return root\n        else:\n            res = (p_bin[1] == q_bin[1])\n            i= 1\n            while res:\n                if p_bin[i] == 0:\n                    LCA = LCA.left\n                else:\n                    LCA = LCA.right\n                i += 1\n                if i >= length:\n                    res = False\n                else:\n                    res = (p_bin[i] == q_bin[i])\n            return LCA\n                 "
   },
   "outputs": [],
   "source": [
    "# Definition for a binary tree node.\n",
    "class TreeNode:\n",
    "    def __init__(self, x):\n",
    "        self.val = x\n",
    "        self.left = None\n",
    "        self.right = None\n",
    "\n",
    "class Solution:\n",
    "    def rank(self, rt: 'Treenode' ,s):\n",
    "        if s == rt:\n",
    "            return 1\n",
    "        else:\n",
    "            rk = 2\n",
    "            list = []\n",
    "            if rt.left == None:\n",
    "                list.append(1)\n",
    "            else:\n",
    "                list.append(rt.left)\n",
    "            if rt.right == None:\n",
    "                list.append(1)\n",
    "            else:\n",
    "                list.append(rt.right)\n",
    "            lost = True\n",
    "            while lost:\n",
    "                if type(list[0]) != int:\n",
    "                    if list[0] == s:\n",
    "                        lost = False\n",
    "                        return rk\n",
    "                    else:\n",
    "                        if list[0].left == None:\n",
    "                            list.append(1)\n",
    "                        else:\n",
    "                            list.append(list[0].left)\n",
    "                        if list[0].right == None:\n",
    "                            list.append(1)\n",
    "                        else:\n",
    "                            list.append(list[0].right)\n",
    "                        list.pop(0)\n",
    "                        rk += 1\n",
    "                else:\n",
    "                    rk += list[0]\n",
    "                    list.append(2 * list[0])\n",
    "                    list.pop(0)\n",
    "                    \n",
    "    \n",
    "    \n",
    "    def lowestCommonAncestor(self, root: 'TreeNode', p: 'TreeNode', q: 'TreeNode') -> 'TreeNode':\n",
    "\n",
    "        p_coord = Solution().rank( root , p)\n",
    "        q_coord = Solution().rank( root , q)\n",
    "        p_bin = [int(bit) for bit in bin(p_coord)[2:]]\n",
    "        q_bin = [int(bit) for bit in bin(q_coord)[2:]]\n",
    "        print(p_bin)\n",
    "        print(q_bin)\n",
    "        length = min(len(p_bin), len(q_bin))\n",
    "        LCA = root\n",
    "        if length ==1:\n",
    "            return root\n",
    "        else:\n",
    "            res = (p_bin[1] == q_bin[1])\n",
    "            i= 1\n",
    "            while res:\n",
    "                if p_bin[i] == 0:\n",
    "                    LCA = LCA.left\n",
    "                else:\n",
    "                    LCA = LCA.right\n",
    "                i += 1\n",
    "                if i >= length:\n",
    "                    res = False\n",
    "                else:\n",
    "                    res = (p_bin[i] == q_bin[i])\n",
    "            return LCA\n",
    "                 "
   ]
  },
  {
   "cell_type": "code",
   "execution_count": 4,
   "id": "fec435f9-fd62-4760-b9ad-1845eb9adcc3",
   "metadata": {
    "executionTime": 176,
    "lastSuccessfullyExecutedCode": "a = TreeNode(3)\nb = TreeNode(1)\nc=TreeNode(4)\nd= TreeNode(2)\na.left = b\na.right = c\nb.right = d\n\nprint(Solution().lowestCommonAncestor(a ,d , c).val)"
   },
   "outputs": [
    {
     "name": "stdout",
     "output_type": "stream",
     "text": [
      "[1, 0, 1]\n",
      "[1, 1]\n",
      "3\n"
     ]
    }
   ],
   "source": [
    "a = TreeNode(3)\n",
    "b = TreeNode(1)\n",
    "c=TreeNode(4)\n",
    "d= TreeNode(2)\n",
    "a.left = b\n",
    "a.right = c\n",
    "b.right = d\n",
    "\n",
    "print(Solution().lowestCommonAncestor(a ,d , c).val)"
   ]
  },
  {
   "cell_type": "markdown",
   "id": "0bb7bba6-045b-46a8-a436-35968a1192ad",
   "metadata": {},
   "source": [
    "**2nde version** méthode récursive"
   ]
  },
  {
   "cell_type": "code",
   "execution_count": 5,
   "id": "771aa88d-8902-4ba6-83e8-5e304d023585",
   "metadata": {
    "executionTime": 175,
    "lastSuccessfullyExecutedCode": "class Solution:\n    def lowestCommonAncestor(self, root: 'TreeNode', p: 'TreeNode', q: 'TreeNode') -> 'TreeNode':\n        if root == None:\n            return root\n        elif p == root or q == root:\n            return root\n        else:\n            left = Solution().lowestCommonAncestor(root.left, p , q)\n            right = Solution().lowestCommonAncestor(root.right, p , q)\n        if left != None and right!= None:\n            return root\n        elif left == None:\n            return right\n        else:\n            return left\n    "
   },
   "outputs": [],
   "source": [
    "class Solution:\n",
    "    def lowestCommonAncestor(self, root: 'TreeNode', p: 'TreeNode', q: 'TreeNode') -> 'TreeNode':\n",
    "        if root == None:\n",
    "            return root\n",
    "        elif p == root or q == root:\n",
    "            return root\n",
    "        else:\n",
    "            left = Solution().lowestCommonAncestor(root.left, p , q)\n",
    "            right = Solution().lowestCommonAncestor(root.right, p , q)\n",
    "        if left != None and right!= None:\n",
    "            return root\n",
    "        elif left == None:\n",
    "            return right\n",
    "        else:\n",
    "            return left\n",
    "    "
   ]
  }
 ],
 "metadata": {
  "colab": {
   "name": "Welcome to DataCamp Workspaces.ipynb",
   "provenance": []
  },
  "kernelspec": {
   "display_name": "Python 3 (ipykernel)",
   "language": "python",
   "name": "python3"
  },
  "language_info": {
   "codemirror_mode": {
    "name": "ipython",
    "version": 3
   },
   "file_extension": ".py",
   "mimetype": "text/x-python",
   "name": "python",
   "nbconvert_exporter": "python",
   "pygments_lexer": "ipython3",
   "version": "3.10.9"
  }
 },
 "nbformat": 4,
 "nbformat_minor": 5
}
